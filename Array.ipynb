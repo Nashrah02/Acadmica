{
  "cells": [
    {
      "cell_type": "markdown",
      "metadata": {
        "id": "view-in-github",
        "colab_type": "text"
      },
      "source": [
        "<a href=\"https://colab.research.google.com/github/Nashrah02/Acadmica/blob/main/Array.ipynb\" target=\"_parent\"><img src=\"https://colab.research.google.com/assets/colab-badge.svg\" alt=\"Open In Colab\"/></a>"
      ]
    },
    {
      "cell_type": "code",
      "execution_count": null,
      "metadata": {
        "colab": {
          "base_uri": "https://localhost:8080/"
        },
        "id": "FQqDcMXM64b2",
        "outputId": "df53336f-48e3-418a-b15e-e094787ef5e5"
      },
      "outputs": [
        {
          "name": "stdout",
          "output_type": "stream",
          "text": [
            "[12, 8, 13, 14, 5]\n"
          ]
        }
      ],
      "source": [
        "# reverse an array\n",
        "nums = [5,14,13,8,12]\n",
        "n=len(nums)\n",
        "for i in range(len(nums)//2):\n",
        "  nums[i],nums[n-i-1]=nums[n-i-1],nums[i]\n",
        "print(nums)"
      ]
    },
    {
      "cell_type": "code",
      "execution_count": null,
      "metadata": {
        "colab": {
          "base_uri": "https://localhost:8080/"
        },
        "id": "vUXViSFjBFpt",
        "outputId": "33fa76bf-e4b4-4916-9383-618200fd4ee5"
      },
      "outputs": [
        {
          "name": "stdout",
          "output_type": "stream",
          "text": [
            "52\n"
          ]
        }
      ],
      "source": [
        "# sum of element\n",
        "nums = [5,14,13,8,12]\n",
        "sum=0\n",
        "for i in range(len(nums)):\n",
        "  sum+=nums[i]\n",
        "print(sum)\n"
      ]
    },
    {
      "cell_type": "code",
      "execution_count": null,
      "metadata": {
        "colab": {
          "base_uri": "https://localhost:8080/"
        },
        "id": "HCXJ2Co1Bwas",
        "outputId": "d6b6fe3c-20bd-479f-d9bc-cfe0fd3e08a7"
      },
      "outputs": [
        {
          "name": "stdout",
          "output_type": "stream",
          "text": [
            "14\n",
            "5\n"
          ]
        }
      ],
      "source": [
        "# largest and smallest number in array\n",
        "a = [5,14,13,8,12]\n",
        "lar=-1000\n",
        "smal=1000\n",
        "for i in range(len(a)):\n",
        "  if a[i]>lar:\n",
        "    lar=a[i]\n",
        "for i in range(len(a)):\n",
        "  if a[i]<smal:\n",
        "    smal=a[i]\n",
        "print(lar)\n",
        "print(smal)"
      ]
    },
    {
      "cell_type": "code",
      "execution_count": null,
      "metadata": {
        "colab": {
          "base_uri": "https://localhost:8080/"
        },
        "id": "6go020GlE6Ah",
        "outputId": "00b8fbff-75aa-4705-c0af-fd1c5714bea3"
      },
      "outputs": [
        {
          "name": "stdout",
          "output_type": "stream",
          "text": [
            "14\n",
            "13\n"
          ]
        }
      ],
      "source": [
        "# lar and sec largest and small and sec smallest\n",
        "a = [5,14,13,8,12]\n",
        "lar=-1000\n",
        "smal=-1000\n",
        "for i in range(len(a)):\n",
        "  if a[i]>lar:\n",
        "    lar=a[i]\n",
        "for i in range(len(a)):\n",
        "  if a[i]>smal and a[i]!=lar:\n",
        "    smal=a[i]\n",
        "print(lar)\n",
        "print(smal)\n",
        "\n"
      ]
    },
    {
      "cell_type": "code",
      "execution_count": null,
      "metadata": {
        "colab": {
          "base_uri": "https://localhost:8080/"
        },
        "id": "aeKQZLTnGWXS",
        "outputId": "471f944e-5464-4479-fd3d-ecdf341c9fad"
      },
      "outputs": [
        {
          "name": "stdout",
          "output_type": "stream",
          "text": [
            "Enter number whose factorial need to be find: 4\n",
            "24\n"
          ]
        }
      ],
      "source": [
        "# factorial\n",
        "n=int(input(\"Enter number whose factorial need to be find: \"))\n",
        "fact=1\n",
        "for i in range(1,n+1):\n",
        "  fact*=i\n",
        "print(fact)\n"
      ]
    },
    {
      "cell_type": "code",
      "execution_count": null,
      "metadata": {
        "colab": {
          "base_uri": "https://localhost:8080/"
        },
        "id": "xSXSYSR_KSC8",
        "outputId": "8fe0a43e-ddb3-4447-c31f-541cea57d635"
      },
      "outputs": [
        {
          "name": "stdout",
          "output_type": "stream",
          "text": [
            "[2, 5, 1]\n",
            "[3, 4, 7]\n",
            "[2, 3, 5, 4, 1, 7]\n"
          ]
        }
      ],
      "source": [
        "# alternate place element add krna\n",
        "a = [2,5,1,3,4,7]\n",
        "b=[]\n",
        "c=[]\n",
        "res=[]\n",
        "for i in range(0,len(a)//2):\n",
        "  b.append(a[i])\n",
        "for k in range(len(a)//2,len(a)):\n",
        "  c.append(a[k])\n",
        "print(b)\n",
        "print(c)\n",
        "i,k=0,0\n",
        "for j in range(len(a)):\n",
        "  if j%2==0:\n",
        "    res.append(b[i])\n",
        "    i+=1\n",
        "  else:\n",
        "    res.append(c[k])\n",
        "    k+=1\n",
        "print(res)\n",
        "\n"
      ]
    },
    {
      "cell_type": "code",
      "execution_count": null,
      "metadata": {
        "colab": {
          "base_uri": "https://localhost:8080/"
        },
        "id": "ryvUKvoCKSGZ",
        "outputId": "0f35b4e8-cdf9-4720-9ef7-76d0d277c5be"
      },
      "outputs": [
        {
          "name": "stdout",
          "output_type": "stream",
          "text": [
            "[10, 20, 30]\n"
          ]
        }
      ],
      "source": [
        "# remove duplicate from sorted array\n",
        "a=[10,10,10,20,20,30,30,30]\n",
        "res=[a[0]]\n",
        "j=0\n",
        "for i in range(1,len(a)):\n",
        "  if a[i]!=res[j]:\n",
        "    res.append(a[i])\n",
        "    j+=1\n",
        "print(res)\n",
        "\n"
      ]
    },
    {
      "cell_type": "code",
      "execution_count": null,
      "metadata": {
        "colab": {
          "base_uri": "https://localhost:8080/"
        },
        "id": "f1Zi0VDyNb2x",
        "outputId": "9319094b-81de-4eee-8aa5-aadf0840ef3f"
      },
      "outputs": [
        {
          "name": "stdout",
          "output_type": "stream",
          "text": [
            "[3, 2]\n"
          ]
        }
      ],
      "source": [
        "# frequency of each number\n",
        "a=[10,10,10,20,20,30]\n",
        "b=[]\n",
        "for i in range(0,len(a)-1):\n",
        "  if a[i]==-1:\n",
        "    continue\n",
        "  count=1\n",
        "  for j in range(i+1,len(a)):\n",
        "    if a[i]==a[j]:\n",
        "      count+=1\n",
        "      a[j]=-1\n",
        "  b.append(count)\n",
        "print(b)\n"
      ]
    },
    {
      "cell_type": "code",
      "execution_count": null,
      "metadata": {
        "colab": {
          "base_uri": "https://localhost:8080/"
        },
        "id": "4ohc83WgRks-",
        "outputId": "3aa2011c-6cc3-4b0c-90e6-7238bbb63c9a"
      },
      "outputs": [
        {
          "name": "stdout",
          "output_type": "stream",
          "text": [
            "[10, 20, 30]\n"
          ]
        }
      ],
      "source": [
        "# unique element\n",
        "a=[10,10,10,20,20,30,30,30]\n",
        "uni=[]\n",
        "for i in range(0,len(a)-1):\n",
        "  if a[i]==-1:\n",
        "    continue\n",
        "  else:\n",
        "    uni.append(a[i])\n",
        "  for j in range(i+1,len(a)):\n",
        "    if a[i]==a[j]:\n",
        "      a[j]=-1\n",
        "print(uni)\n",
        "\n",
        "\n"
      ]
    },
    {
      "cell_type": "code",
      "execution_count": null,
      "metadata": {
        "colab": {
          "base_uri": "https://localhost:8080/"
        },
        "id": "Ly4Gn_tAUvR1",
        "outputId": "e05b510f-99ec-474a-ec1a-3b166f04a361"
      },
      "outputs": [
        {
          "name": "stdout",
          "output_type": "stream",
          "text": [
            "321\n"
          ]
        }
      ],
      "source": [
        "# palindrome-reverse of string is equal\n",
        "a=123\n",
        "temp=a\n",
        "rev=0\n",
        "while a>0:\n",
        "  last=a%10\n",
        "  rev=(rev*10)+last\n",
        "  a//=10\n",
        "print(rev)"
      ]
    },
    {
      "cell_type": "code",
      "execution_count": null,
      "metadata": {
        "id": "YkCKbO_SWL0n"
      },
      "outputs": [],
      "source": [
        "# prime number\n",
        "isPrime= True\n",
        "n=int(input(\"enter a number: \"));\n",
        "for i in range(2,n):\n",
        "  if n%i==0:\n",
        "    isPrime=False\n",
        "    break\n",
        "if isPrime:\n",
        "  print(\"prime\")\n",
        "else:\n",
        "  print(\"not prime\")"
      ]
    },
    {
      "cell_type": "code",
      "execution_count": null,
      "metadata": {
        "colab": {
          "background_save": true
        },
        "id": "I5ceXJannPDt",
        "outputId": "d7e8fb3c-218b-422e-f87b-aa125e32a525"
      },
      "outputs": [
        {
          "ename": "ValueError",
          "evalue": "invalid literal for int() with base 10: ''",
          "output_type": "error",
          "traceback": [
            "\u001b[0;31m---------------------------------------------------------------------------\u001b[0m",
            "\u001b[0;31mValueError\u001b[0m                                Traceback (most recent call last)",
            "\u001b[0;32m<ipython-input-5-2cea58fa1dcf>\u001b[0m in \u001b[0;36m<cell line: 3>\u001b[0;34m()\u001b[0m\n\u001b[1;32m      1\u001b[0m \u001b[0;31m# find the prime number of an element\u001b[0m\u001b[0;34m\u001b[0m\u001b[0;34m\u001b[0m\u001b[0m\n\u001b[1;32m      2\u001b[0m \u001b[0misPrime\u001b[0m\u001b[0;34m=\u001b[0m\u001b[0;32mTrue\u001b[0m\u001b[0;34m\u001b[0m\u001b[0;34m\u001b[0m\u001b[0m\n\u001b[0;32m----> 3\u001b[0;31m \u001b[0mn\u001b[0m\u001b[0;34m=\u001b[0m\u001b[0mint\u001b[0m\u001b[0;34m(\u001b[0m\u001b[0minput\u001b[0m\u001b[0;34m(\u001b[0m\u001b[0;34m\"Enter a number \"\u001b[0m\u001b[0;34m)\u001b[0m\u001b[0;34m)\u001b[0m\u001b[0;34m\u001b[0m\u001b[0;34m\u001b[0m\u001b[0m\n\u001b[0m\u001b[1;32m      4\u001b[0m \u001b[0;32mfor\u001b[0m \u001b[0mi\u001b[0m \u001b[0;32min\u001b[0m \u001b[0mrange\u001b[0m\u001b[0;34m(\u001b[0m\u001b[0;36m2\u001b[0m\u001b[0;34m,\u001b[0m\u001b[0mn\u001b[0m\u001b[0;34m)\u001b[0m\u001b[0;34m:\u001b[0m\u001b[0;34m\u001b[0m\u001b[0;34m\u001b[0m\u001b[0m\n\u001b[1;32m      5\u001b[0m   \u001b[0;32mif\u001b[0m \u001b[0mn\u001b[0m\u001b[0;34m%\u001b[0m\u001b[0mi\u001b[0m\u001b[0;34m==\u001b[0m\u001b[0;36m0\u001b[0m\u001b[0;34m:\u001b[0m\u001b[0;34m\u001b[0m\u001b[0;34m\u001b[0m\u001b[0m\n",
            "\u001b[0;31mValueError\u001b[0m: invalid literal for int() with base 10: ''"
          ]
        }
      ],
      "source": [
        "# find the prime number of an element\n",
        "isPrime=True\n",
        "n=int(input(\"Enter a number \"))\n",
        "for i in range(2,n):\n",
        "  if n%i==0:\n",
        "    isPrime=False\n",
        "    break\n",
        "if isPrime:\n",
        "  print(\"prime\")\n",
        "else:\n",
        "  print(\"Not a prime\")"
      ]
    },
    {
      "cell_type": "code",
      "execution_count": null,
      "metadata": {
        "colab": {
          "base_uri": "https://localhost:8080/"
        },
        "id": "QZR3H248iKgV",
        "outputId": "05d9a8cd-449a-4c7c-dc98-600989137960"
      },
      "outputs": [
        {
          "name": "stdout",
          "output_type": "stream",
          "text": [
            "[1, 3, 5, 8, 9, 10]\n",
            "[5.5, 6.0, 6.5]\n",
            "5.5\n"
          ]
        }
      ],
      "source": [
        "# continuous lar n small element\n",
        "a=[1,9,8,3,10,5]\n",
        "b=sorted(a)\n",
        "print(b)\n",
        "avg=[]\n",
        "for i in range(len(b)//2):\n",
        "  avg.append((b[i]+b[len(b)-i-1])/2)\n",
        "print(avg)\n",
        "min=100000\n",
        "for i in range(len(avg)):\n",
        "  if avg[i]<min:\n",
        "    min=avg[i]\n",
        "print(min)\n",
        "\n",
        "\n"
      ]
    },
    {
      "cell_type": "code",
      "execution_count": null,
      "metadata": {
        "colab": {
          "base_uri": "https://localhost:8080/"
        },
        "id": "TuBWXnjMRrrW",
        "outputId": "d74bdb8d-105f-48a9-c888-175fba7299d8"
      },
      "outputs": [
        {
          "name": "stdout",
          "output_type": "stream",
          "text": [
            "15\n",
            "8\n"
          ]
        }
      ],
      "source": [
        "# odd sum subarray\n",
        "a = [1,4,2,5,3]\n",
        "sum=0\n",
        "for i in range(len(a)):\n",
        "  sum+=a[i]\n",
        "print(sum)\n",
        "for i in range(0,len(a)-1):\n",
        "  for j in range(i+1,len(a)):\n",
        "    if i+j%2!=0:\n",
        "      sum=a[i]+a[j]\n",
        "print(sum)"
      ]
    },
    {
      "cell_type": "code",
      "execution_count": null,
      "metadata": {
        "colab": {
          "base_uri": "https://localhost:8080/"
        },
        "id": "ETN0qpAp9GcJ",
        "outputId": "dba76e59-4bc0-452a-c0fb-29c3f400b4ef"
      },
      "outputs": [
        {
          "name": "stdout",
          "output_type": "stream",
          "text": [
            "1\n",
            "3\n",
            "[3, 1]\n"
          ]
        }
      ],
      "source": [
        "# equal element\n",
        "a =[1,3,2,1,3,2,2]\n",
        "count=0\n",
        "res=[]\n",
        "for i in range(len(a)-1):\n",
        "  if a[i]==-1:\n",
        "    continue\n",
        "  for j in range(i+1,len(a)):\n",
        "    if a[i]==a[j]:\n",
        "\n",
        "      a[j]=-1\n",
        "      count+=1\n",
        "      break\n",
        "k=len(a)-(2*count)\n",
        "print(k)\n",
        "print(count)\n",
        "res.append(count)\n",
        "res.append(k)\n",
        "print(res)"
      ]
    },
    {
      "cell_type": "code",
      "execution_count": null,
      "metadata": {
        "colab": {
          "base_uri": "https://localhost:8080/"
        },
        "id": "e2KE26DuFzkE",
        "outputId": "9a0fe588-230b-4b34-dd46-2174a863b9aa"
      },
      "outputs": [
        {
          "name": "stdout",
          "output_type": "stream",
          "text": [
            "[1, 2, 3, 1, 2, 3]\n"
          ]
        }
      ],
      "source": [
        "n = [0,0,0,1,2,3]\n",
        "# k = [2,5,6]\n",
        "# for i in range(len(k)):\n",
        "#   n.append(k[i])\n",
        "# print(sorted(n))\n",
        "# # update the same array\n",
        "index=0\n",
        "for i in n:\n",
        "\n",
        "  if i!=0:\n",
        "    n[index]=i\n",
        "    index+=1\n",
        "\n",
        "print(n)\n",
        "\n",
        "\n"
      ]
    },
    {
      "cell_type": "code",
      "execution_count": null,
      "metadata": {
        "colab": {
          "base_uri": "https://localhost:8080/"
        },
        "id": "6y5-Mmk_xXuF",
        "outputId": "8d8c87b2-478d-4161-c058-96562d04a860"
      },
      "outputs": [
        {
          "name": "stdout",
          "output_type": "stream",
          "text": [
            "[1, 2, 2, 3, 5, 6, 3, 5, 6]\n"
          ]
        }
      ],
      "source": [
        "# updation of element\n",
        "arr= [0, 0, 0, 1, 2, 2, 3, 5, 6]\n",
        "write_index = 0\n",
        "for num in arr:\n",
        "  if len(arr)==6:\n",
        "    break\n",
        "  if num != 0:\n",
        "    arr[write_index] = num\n",
        "    write_index += 1\n",
        "\n",
        "print(arr)"
      ]
    },
    {
      "cell_type": "code",
      "execution_count": null,
      "metadata": {
        "colab": {
          "base_uri": "https://localhost:8080/"
        },
        "id": "xrAfimrAzxCV",
        "outputId": "d9c98a39-d7f0-4de2-c4ec-a6c3f0a02d9f"
      },
      "outputs": [
        {
          "name": "stdout",
          "output_type": "stream",
          "text": [
            "[0, 0, 0, 1, 2, 2, 3, 5, 6]\n",
            "[1, 2, 3, 0, 0, 0, 2, 5, 6]\n",
            "[1, 2, 3, 0, 0, 0, 2, 5, 6]\n",
            "[1, 2, 3, 0, 0, 0, 2, 5, 6]\n",
            "[1, 2, 3, 0, 0, 0, 2, 5, 6]\n",
            "[1, 2, 3, 0, 0, 0, 2, 5, 6]\n",
            "[1, 2, 3, 0, 0, 0, 2, 5, 6]\n",
            "[1, 2, 3, 0, 0, 0, 2, 5, 6]\n",
            "[1, 2, 3, 2, 0, 0, 2, 5, 6]\n",
            "[1, 2, 3, 2, 5, 0, 2, 5, 6]\n"
          ]
        }
      ],
      "source": [
        "# merge sorted array\n",
        "nums1 = [1,2,3,0,0,0]\n",
        "m = 3\n",
        "nums2 = [2,5,6]\n",
        "n = 3\n",
        "k=m+n\n",
        "for i in range(len(nums2)):\n",
        "  nums1.append(nums2[i])\n",
        "print(sorted(nums1))\n",
        "index=0\n",
        "for i in nums1:\n",
        "  print(nums1)\n",
        "  if i!=0:\n",
        "    nums1[index]=i\n",
        "    index+=1\n",
        "# print(nums1)\n",
        "# print(k)\n",
        "# print(sorted(nums1[0:k+1]))"
      ]
    },
    {
      "cell_type": "code",
      "execution_count": null,
      "metadata": {
        "colab": {
          "base_uri": "https://localhost:8080/"
        },
        "id": "zjwLvr2R3hv8",
        "outputId": "fc15f262-75af-4ddf-9d19-50369757ba78"
      },
      "outputs": [
        {
          "name": "stdout",
          "output_type": "stream",
          "text": [
            "[1, 2, 3, 5, 6]\n"
          ]
        }
      ],
      "source": [
        "a = [0, 0, 0, 1, 2, 3, 5, 6]\n",
        "\n",
        "# Loop through the list in reverse order\n",
        "for i in range(len(a) - 1, -1, -1):\n",
        "  if a[i] == 0:\n",
        "    # Remove element at index i\n",
        "    del a[i]\n",
        "\n",
        "print(a)  # Output: [1, 2, 3, 5, 6]\n"
      ]
    },
    {
      "cell_type": "code",
      "execution_count": null,
      "metadata": {
        "colab": {
          "base_uri": "https://localhost:8080/"
        },
        "id": "yM8lmj2DVDUD",
        "outputId": "02bf252b-d9e1-4b08-e9ce-ee9ed83b5762"
      },
      "outputs": [
        {
          "name": "stdout",
          "output_type": "stream",
          "text": [
            "Counter({'l': 2, 'b': 1, 'e': 1, 'a': 1})\n"
          ]
        }
      ],
      "source": [
        "# find common character\n",
        "from collections import Counter\n",
        "n = [\"bella\",\"label\",\"roller\"]\n",
        "c=Counter(n[0])\n",
        "print(c)"
      ]
    },
    {
      "cell_type": "code",
      "execution_count": null,
      "metadata": {
        "colab": {
          "base_uri": "https://localhost:8080/"
        },
        "id": "MMISXgrFcfZx",
        "outputId": "a0d966b5-737b-4bbc-bf38-5c8341974a84"
      },
      "outputs": [
        {
          "name": "stdout",
          "output_type": "stream",
          "text": [
            "Counter({'r': 2, 'l': 2, 'o': 1, 'e': 1})\n"
          ]
        }
      ],
      "source": [
        "from collections import Counter\n",
        "words = [\"bella\",\"label\",\"roller\"]\n",
        "for w in words:\n",
        "  cur_cnt=Counter(w)\n",
        "print(cur_cnt)"
      ]
    },
    {
      "cell_type": "code",
      "execution_count": null,
      "metadata": {
        "colab": {
          "base_uri": "https://localhost:8080/"
        },
        "id": "NEbicW7NljGs",
        "outputId": "d999e6e4-be89-48da-d8aa-71d89a2bb198"
      },
      "outputs": [
        {
          "name": "stdout",
          "output_type": "stream",
          "text": [
            "[2, 3, 1]\n",
            "[1, 2, 3]\n",
            "{1: 1, 2: 1, 3: 1}\n"
          ]
        }
      ],
      "source": [
        "# sort the element by frequency\n",
        "v = [1,1,2,2,2,3]\n",
        "fre=[]\n",
        "uni=[]\n",
        "for i in range(len(v)):\n",
        "  if v[i]==-1:\n",
        "    continue\n",
        "  else:\n",
        "    uni.append(v[i])\n",
        "  count=1\n",
        "  for j in range(i+1,len(v)):\n",
        "    if v[i]==v[j]:\n",
        "      v[j]=-1\n",
        "      count+=1\n",
        "  fre.append(count)\n",
        "print(fre)\n",
        "print(uni)\n",
        "res={}\n",
        "for key in uni:\n",
        "  for value in fre:\n",
        "    res[key]=value\n",
        "print(res)\n",
        "\n",
        "\n"
      ]
    },
    {
      "cell_type": "code",
      "execution_count": null,
      "metadata": {
        "colab": {
          "base_uri": "https://localhost:8080/"
        },
        "id": "84gzPpLHv7x1",
        "outputId": "923f07dc-879b-4d49-f43d-08832b4b2fea"
      },
      "outputs": [
        {
          "name": "stdout",
          "output_type": "stream",
          "text": [
            "[2, 3, 1]\n",
            "[1, 2, 3]\n",
            "{1: 2, 2: 3, 3: 1}\n"
          ]
        }
      ],
      "source": [
        "v = [1, 1, 2, 2, 2, 3]\n",
        "fre = []\n",
        "uni = []\n",
        "\n",
        "for i in range(len(v)):\n",
        "    if v[i] == -1:\n",
        "        continue\n",
        "    else:\n",
        "        uni.append(v[i])\n",
        "        count = 1\n",
        "        for j in range(i + 1, len(v)):\n",
        "            if v[i] == v[j]:\n",
        "                v[j] = -1\n",
        "                count += 1\n",
        "        fre.append(count)\n",
        "\n",
        "res = {}\n",
        "for i in range(len(uni)):\n",
        "    res[uni[i]] = fre[i]\n",
        "\n",
        "print(fre)\n",
        "print(uni)\n",
        "print(res)\n"
      ]
    },
    {
      "cell_type": "code",
      "execution_count": null,
      "metadata": {
        "colab": {
          "base_uri": "https://localhost:8080/"
        },
        "id": "N3wBmuB2nxT8",
        "outputId": "914430f9-42b9-45d5-fb02-bce6cb9d321d"
      },
      "outputs": [
        {
          "name": "stdout",
          "output_type": "stream",
          "text": [
            "True\n"
          ]
        }
      ],
      "source": [
        "# special array\n",
        "nums = [2,1,4]\n",
        "if len(nums)==1:\n",
        "  print(\"True\")\n",
        "for i in range(0,len(nums)-1):\n",
        "  for j in range(i+1,len(nums)):\n",
        "    if ((nums[i]%2==0 and nums[j]%2==0) or (nums[i]%2!=0 and nums[j]%2!=0)):\n",
        "      print(\"False\")\n",
        "    break\n",
        "print(\"True\")"
      ]
    },
    {
      "cell_type": "code",
      "execution_count": null,
      "metadata": {
        "colab": {
          "base_uri": "https://localhost:8080/"
        },
        "id": "lLIPhwPNA9QD",
        "outputId": "7df70c72-1937-4415-9112-cc451b5ab2b3"
      },
      "outputs": [
        {
          "name": "stdout",
          "output_type": "stream",
          "text": [
            "[2, 3]\n"
          ]
        }
      ],
      "source": [
        "# next greater element\n",
        "n=[4,1,2]\n",
        "s=[1,2,3,4]\n",
        "res=[]\n",
        "for i in range(len(n)):\n",
        "  for j in range(len(s)-1):\n",
        "    if n[i]==s[j]:\n",
        "      if s[j+1]>n[i]:\n",
        "        res.append(s[j+1])\n",
        "      else:\n",
        "        res.append(-1)\n",
        "\n",
        "print(res)"
      ]
    },
    {
      "cell_type": "code",
      "execution_count": null,
      "metadata": {
        "colab": {
          "base_uri": "https://localhost:8080/"
        },
        "id": "WeNbEpB6FN1M",
        "outputId": "866c6263-44b7-48cd-e8fd-6093f2434ed4"
      },
      "outputs": [
        {
          "name": "stdout",
          "output_type": "stream",
          "text": [
            "[3, -1]\n"
          ]
        }
      ],
      "source": [
        "n = [2,4]\n",
        "s = [1,2,3,4]\n",
        "res = []\n",
        "\n",
        "for i in range(len(n)):\n",
        "  found = False\n",
        "  for j in range(len(s)):\n",
        "    if n[i] == s[j]:\n",
        "      for k in range(j + 1, len(s)):\n",
        "        if s[k] > n[i]:\n",
        "          res.append(s[k])\n",
        "          found = True\n",
        "          break\n",
        "      if not found:\n",
        "        res.append(-1)\n",
        "        break\n",
        "\n",
        "print(res)\n"
      ]
    },
    {
      "cell_type": "code",
      "execution_count": null,
      "metadata": {
        "colab": {
          "base_uri": "https://localhost:8080/"
        },
        "id": "TFqJ4gEPV7N1",
        "outputId": "21360f6c-7e83-4ae5-bbfb-8766cd962f5c"
      },
      "outputs": [
        {
          "name": "stdout",
          "output_type": "stream",
          "text": [
            "[2]\n",
            "[3]\n",
            "[2, 3]\n"
          ]
        }
      ],
      "source": [
        "# sort array by parity 2\n",
        "n =[2,3]\n",
        "e=[]\n",
        "o=[]\n",
        "res=[]\n",
        "for i in range(len(n)):\n",
        "  if n[i]%2==0:\n",
        "    e.append(n[i])\n",
        "  else:\n",
        "    o.append(n[i])\n",
        "print(e)\n",
        "print(o)\n",
        "i,j=0,0\n",
        "for k in range(len(n)):\n",
        "  if k%2==0:\n",
        "    res.append(e[i])\n",
        "    i+=1\n",
        "  else:\n",
        "    res.append(o[j])\n",
        "    j+=1\n",
        "print(res)\n"
      ]
    },
    {
      "cell_type": "code",
      "execution_count": null,
      "metadata": {
        "colab": {
          "base_uri": "https://localhost:8080/"
        },
        "id": "5SPcEJp1yZ5R",
        "outputId": "8bd4281a-fcc8-4467-801e-2a541195ff2d"
      },
      "outputs": [
        {
          "name": "stdout",
          "output_type": "stream",
          "text": [
            "[1, 0]\n",
            "0\n"
          ]
        }
      ],
      "source": [
        "# find the champions\n",
        "g = [[0,1],[0,0]]\n",
        "res=[]\n",
        "for i in range(len(g)):\n",
        "  count=0\n",
        "  for j in range(len(g[i])):\n",
        "    if g[i][j]==1:\n",
        "      count+=1\n",
        "  res.append(count)\n",
        "print(res)\n",
        "max=-10000\n",
        "for i in range(len(res)):\n",
        "  if res[i]>max:\n",
        "    max=res[i]\n",
        "  if res[i]==max:\n",
        "    print(i)\n",
        "# for j in range(len(res)):\n",
        "#   if res[j]==max:\n",
        "#     print(j)\n",
        "#     print(g[j])"
      ]
    },
    {
      "cell_type": "code",
      "execution_count": null,
      "metadata": {
        "colab": {
          "base_uri": "https://localhost:8080/"
        },
        "id": "hq3uw6lX4Ush",
        "outputId": "20539370-c9c8-4340-cbdb-649d7e59202d"
      },
      "outputs": [
        {
          "name": "stdout",
          "output_type": "stream",
          "text": [
            "9\n",
            "[1, 2, 3, 4, 5, 6, 7, 8, 9]\n",
            "[5, 6, 7, 8, 9]\n",
            "9\n"
          ]
        }
      ],
      "source": [
        "arr = [1,2,3,4]\n",
        "k=5\n",
        "n=arr[-1]+k\n",
        "print(n)\n",
        "s=[]\n",
        "res=[]\n",
        "for i in range(1,n+1):\n",
        "  s.append(i)\n",
        "print(s)\n",
        "for i in s:\n",
        "  if i not in arr:\n",
        "    res.append(i)\n",
        "print(res)\n",
        "for i in range(len(res)):\n",
        "  print(res[k-1])\n",
        "  break"
      ]
    },
    {
      "cell_type": "code",
      "execution_count": null,
      "metadata": {
        "colab": {
          "base_uri": "https://localhost:8080/"
        },
        "id": "wN-gk1NKps0X",
        "outputId": "e676298c-cf35-4e6f-95f1-fb33311f80b2"
      },
      "outputs": [
        {
          "name": "stdout",
          "output_type": "stream",
          "text": [
            "[1, 2, 3, 4, 5, 6, 7, 8]\n",
            "[5, 6]\n"
          ]
        }
      ],
      "source": [
        "n = [4,3,2,7,8,2,3,1]\n",
        "k=len(n)\n",
        "mx=-10\n",
        "res=[]\n",
        "# for i in range(len(n)):\n",
        "#   if n[i]>mx:\n",
        "#     mx=n[i]\n",
        "# print(mx)\n",
        "s=[]\n",
        "for i in range(1,k+1):\n",
        "  s.append(i)\n",
        "print(s)\n",
        "for i in s:\n",
        "  if i not in n:\n",
        "    res.append(i)\n",
        "print(res)"
      ]
    },
    {
      "cell_type": "code",
      "execution_count": null,
      "metadata": {
        "colab": {
          "base_uri": "https://localhost:8080/"
        },
        "id": "Pq3yyFImrWaX",
        "outputId": "ce651478-1f21-43bf-baf5-b7cc9a9be601"
      },
      "outputs": [
        {
          "name": "stdout",
          "output_type": "stream",
          "text": [
            "{1, 2, 3, 4, 7, 8}\n"
          ]
        }
      ],
      "source": [
        "n = [4,3,2,7,8,2,3,1]\n",
        "s=set(n)\n",
        "print(s)"
      ]
    },
    {
      "cell_type": "code",
      "execution_count": null,
      "metadata": {
        "colab": {
          "base_uri": "https://localhost:8080/"
        },
        "id": "6gWPUe8asDOz",
        "outputId": "3eb2c2ed-fc33-4fd9-9ada-290613205b07"
      },
      "outputs": [
        {
          "name": "stdout",
          "output_type": "stream",
          "text": [
            "[4, 3, 2, 1, 0]\n"
          ]
        }
      ],
      "source": [
        "nums = [1,1,0,1,1,1]\n",
        "res=[]\n",
        "for i in range(len(nums)):\n",
        "  if nums[i]==0:\n",
        "    continue\n",
        "  count=0\n",
        "  for j in range(i+1,len(nums)):\n",
        "    if (nums[i]==1 and nums[j]==1):\n",
        "      count+=1\n",
        "  res.append(count)\n",
        "print(res)"
      ]
    },
    {
      "cell_type": "code",
      "execution_count": null,
      "metadata": {
        "colab": {
          "base_uri": "https://localhost:8080/"
        },
        "id": "cxHcZhw8uwjv",
        "outputId": "d1ce1d16-0b51-4b26-a2f8-f924a83b0cf3"
      },
      "outputs": [
        {
          "name": "stdout",
          "output_type": "stream",
          "text": [
            "[]\n",
            "100\n",
            "-1\n"
          ]
        }
      ],
      "source": [
        "# minimum common value\n",
        "nums1 = [6]\n",
        "nums2 = [2,3,4,5]\n",
        "n=[]\n",
        "for i in nums1:\n",
        "  if i in nums2:\n",
        "    n.append(i)\n",
        "print(n)\n",
        "sm=100\n",
        "for i in range(len(n)):\n",
        "  if n[i]<sm:\n",
        "    sm=n[i]\n",
        "print(sm)\n",
        "if not n:\n",
        "  print(-1)\n"
      ]
    },
    {
      "cell_type": "code",
      "execution_count": null,
      "metadata": {
        "colab": {
          "base_uri": "https://localhost:8080/"
        },
        "id": "kzDuSsBU0_bO",
        "outputId": "cc43a326-43d2-4bea-cf8d-20a6b7391bbe"
      },
      "outputs": [
        {
          "name": "stdout",
          "output_type": "stream",
          "text": [
            "['a', 'A']\n",
            "aA\n"
          ]
        }
      ],
      "source": [
        "# reverse a vowel\n",
        "k = \"aA\"\n",
        "s=[]\n",
        "for i in k:\n",
        "  s.append(i)\n",
        "\n",
        "for i in range(len(s)):\n",
        "  for j in range(i+1,len(s)):\n",
        "    if (s[i] in \"aeiou\") and (s[j] in \"aeiou\"):\n",
        "      s[i],s[j]=s[j],s[i]\n",
        "print(s)\n",
        "j=\"\".join(s)\n",
        "print(j)"
      ]
    },
    {
      "cell_type": "code",
      "execution_count": null,
      "metadata": {
        "colab": {
          "background_save": true,
          "base_uri": "https://localhost:8080/"
        },
        "id": "wmcczh7w34tP",
        "outputId": "7de2f0a0-fcf0-4a26-8267-271446cd6af7"
      },
      "outputs": [
        {
          "name": "stdout",
          "output_type": "stream",
          "text": [
            "[3]\n",
            "[]\n",
            "[[3], []]\n"
          ]
        }
      ],
      "source": [
        "# ḍifference between two array\n",
        "nums1 = [1,2,3]\n",
        "nums2 = [2,4,6]\n",
        "n=[]\n",
        "s=[]\n",
        "res=[]\n",
        "for i in nums1:\n",
        "  if i not in nums2:\n",
        "    n.append(i)\n",
        "print(n)\n",
        "for i in nums2:\n",
        "  if i not in nums1:\n",
        "    s.append(i)\n",
        "print(s)\n",
        "res.append(n)\n",
        "res.append(s)\n",
        "print(res)\n"
      ]
    },
    {
      "cell_type": "code",
      "source": [
        "# elements are unequals\n",
        "fre=[3,3,2,1]\n",
        "seen=set()\n",
        "for ele in fre:\n",
        "  print(ele)\n",
        "  if ele in seen:\n",
        "    print(\"False\")\n",
        "  seen.add(ele)\n",
        "  print(seen)\n",
        "print(\"True\")\n"
      ],
      "metadata": {
        "id": "u8BlIhVC6W1k",
        "colab": {
          "base_uri": "https://localhost:8080/"
        },
        "outputId": "0bd9d9c4-71da-4621-b9d4-e801a7d687f6"
      },
      "execution_count": null,
      "outputs": [
        {
          "output_type": "stream",
          "name": "stdout",
          "text": [
            "3\n",
            "{3}\n",
            "3\n",
            "False\n",
            "{3}\n",
            "2\n",
            "{2, 3}\n",
            "1\n",
            "{1, 2, 3}\n",
            "True\n"
          ]
        }
      ]
    },
    {
      "cell_type": "code",
      "source": [
        "# minimum absolute difference\n",
        "a = [40,11,26,27,-20]\n",
        "n=sorted(a)\n",
        "print(n)\n",
        "diff=abs(n[0]-n[1])\n",
        "print(diff)\n",
        "res=[]\n",
        "for i in range(0,len(n)-1):\n",
        "  if abs(n[i]-n[i+1])==diff:\n",
        "    res.append([n[i],n[i+1]])\n",
        "print(res)\n",
        "\n",
        "\n"
      ],
      "metadata": {
        "colab": {
          "base_uri": "https://localhost:8080/"
        },
        "id": "Yp3fuo3vEyRb",
        "outputId": "07ce1624-cd88-4b72-e754-aab8641348ba"
      },
      "execution_count": null,
      "outputs": [
        {
          "output_type": "stream",
          "name": "stdout",
          "text": [
            "[-20, 11, 26, 27, 40]\n",
            "31\n",
            "[[-20, 11]]\n"
          ]
        }
      ]
    },
    {
      "cell_type": "code",
      "source": [
        "# minimum absolute difference\n",
        "a=[1,3,6,10,15]\n",
        "f=[]\n",
        "n=sorted(a)\n",
        "min=10000\n",
        "for i in range(len(n)):\n",
        "  for j in range(i+1,len(n)):\n",
        "    k=abs(n[i]-n[i+1])\n",
        "  f.append(k)\n",
        "print(f)\n",
        "for i in range(len(f)):\n",
        "  if f[i]<min:\n",
        "    min=f[i]\n",
        "print(min)\n",
        "res=[]\n",
        "for i in range(len(n)-1):\n",
        "  if abs(n[i]-n[i+1])==min:\n",
        "    res.append([n[i],n[i+1]])\n",
        "print(res)\n",
        "\n"
      ],
      "metadata": {
        "colab": {
          "base_uri": "https://localhost:8080/"
        },
        "id": "6Bdr-y1ZL6GX",
        "outputId": "ac4c889f-92c9-4c7b-e578-7c0691511361"
      },
      "execution_count": null,
      "outputs": [
        {
          "output_type": "stream",
          "name": "stdout",
          "text": [
            "[2, 3, 4, 5, 5]\n",
            "2\n",
            "[[1, 3]]\n"
          ]
        }
      ]
    },
    {
      "cell_type": "code",
      "source": [
        "# monotonic array\n",
        "nums = [1,2,0,3]\n",
        "k=nums[0]\n",
        "for i in range(1,len(nums)):\n",
        "  print(i)\n",
        "  if (k<=nums[i]):\n",
        "    print(\"true\")\n",
        "  else:\n",
        "    print(\"false\")"
      ],
      "metadata": {
        "colab": {
          "base_uri": "https://localhost:8080/"
        },
        "id": "Z2K8BFw-YjV3",
        "outputId": "9a023fdd-83dd-4daa-f986-809f831fccb0"
      },
      "execution_count": null,
      "outputs": [
        {
          "output_type": "stream",
          "name": "stdout",
          "text": [
            "1\n",
            "true\n",
            "2\n",
            "false\n",
            "3\n",
            "true\n"
          ]
        }
      ]
    },
    {
      "cell_type": "code",
      "source": [
        "# is subsequence\n",
        "# two array ko compare krna ki whther the value they hold are equal or not\n",
        "s = \"abc\"\n",
        "t = \"ahc\"\n",
        "h=[i for i in s]\n",
        "k=[j for j in t]\n",
        "print(h)\n",
        "print(k)\n",
        "i,j=0,0\n",
        "while i<len(h) and j<len(k):\n",
        "  if h[i]==k[j]:\n",
        "    i+=1\n",
        "  j+=1\n",
        "print(i==len(h))\n"
      ],
      "metadata": {
        "colab": {
          "base_uri": "https://localhost:8080/"
        },
        "id": "m6A8mZEu2-8R",
        "outputId": "f0f21bc0-8607-4c5d-a5a9-fcca96d1936c"
      },
      "execution_count": null,
      "outputs": [
        {
          "output_type": "stream",
          "name": "stdout",
          "text": [
            "['a', 'b', 'c']\n",
            "['a', 'h', 'c']\n",
            "False\n"
          ]
        }
      ]
    },
    {
      "cell_type": "code",
      "source": [
        "# product of array except self\n",
        "n= [1,2,3,4]\n",
        "k=[]\n",
        "for i in range(0,len(n)-1):\n",
        "  v=n[i-1]*n[i+1]\n",
        "  k.append(v)\n",
        "print(k)"
      ],
      "metadata": {
        "colab": {
          "base_uri": "https://localhost:8080/"
        },
        "id": "vpF6JaHb_I-I",
        "outputId": "2444e1d6-39d1-4bcb-b2b4-ff49d91a6050"
      },
      "execution_count": null,
      "outputs": [
        {
          "output_type": "stream",
          "name": "stdout",
          "text": [
            "-1\n",
            "1\n",
            "0\n",
            "2\n",
            "1\n",
            "3\n",
            "[8, 3, 8]\n"
          ]
        }
      ]
    },
    {
      "cell_type": "code",
      "source": [
        "# subarray(KEDANE ALGORITHM)\n",
        "nums = [1,12,-5,-6,50,3]\n",
        "k=4\n",
        "max_sum=0\n",
        "cur_sum=\n",
        "n=[]\n",
        "for i in range(0,len(nums)):\n",
        "  cur_sum=cur_sum+nums[i]\n",
        "  if (cur_sum>max_sum):\n",
        "    max_sum=cur_sum\n",
        "    n.append(max_sum)\n",
        "\n",
        "print(max_sum)\n",
        "print(cur_sum)\n",
        "print(n)\n"
      ],
      "metadata": {
        "colab": {
          "base_uri": "https://localhost:8080/"
        },
        "id": "HfhDoLCKPRw7",
        "outputId": "e27416b4-afa5-49db-cb7c-48f4da1313ff"
      },
      "execution_count": null,
      "outputs": [
        {
          "output_type": "stream",
          "name": "stdout",
          "text": [
            "55\n",
            "55\n",
            "[1, 13, 52, 55]\n"
          ]
        }
      ]
    },
    {
      "cell_type": "code",
      "source": [
        "# sum upto k lenght\n",
        "nums = [1, 12, -5, -6, 50, 3]\n",
        "k = 4\n",
        "max_sum = -1000000 # Start with the smallest possible value\n",
        "cur_sum = 0\n",
        "n = []\n",
        "\n",
        "# Calculate the sum of the first 'k' elementsy\n",
        "for i in range(k):\n",
        "    cur_sum += nums[i]\n",
        "\n",
        "max_sum = cur_sum\n",
        "# print(max_sum)\n",
        "n.append(max_sum)\n",
        "# print(n)\n",
        "\n",
        "# Use sliding window to find the maximum sum of subarrays of length 'k'\n",
        "for i in range(k, len(nums)):\n",
        "  print(i)\n",
        "  cur_sum += nums[i] - nums[i - k]\n",
        "  if cur_sum > max_sum:\n",
        "    max_sum = cur_sum\n",
        "    n.append(max_sum)\n",
        "print(max_sum)\n",
        "print(cur_sum)\n",
        "print(n)"
      ],
      "metadata": {
        "colab": {
          "base_uri": "https://localhost:8080/"
        },
        "id": "rBuKoE40XDGv",
        "outputId": "747177c0-96c3-4c94-cd63-03453fc6e75e"
      },
      "execution_count": null,
      "outputs": [
        {
          "output_type": "stream",
          "name": "stdout",
          "text": [
            "4\n",
            "5\n",
            "51\n",
            "42\n",
            "[2, 51]\n"
          ]
        }
      ]
    },
    {
      "cell_type": "code",
      "source": [
        "# kedane algorithm (maximum sum subarray)\n",
        "nums = [1, 12, -5, -6, 50, 3]\n",
        "cur_sum=0\n",
        "max_sum=0\n",
        "n=[]\n",
        "for i in range(len(nums)):\n",
        "\n",
        "  cur_sum+=nums[i]\n",
        "  if (cur_sum>max_sum):\n",
        "    max_sum=cur_sum\n",
        "    n.append(max_sum)\n",
        "print(n)\n",
        "print(max_sum)\n",
        "print(cur_sum)\n"
      ],
      "metadata": {
        "id": "zrUIbj4ZuU7I",
        "colab": {
          "base_uri": "https://localhost:8080/"
        },
        "outputId": "7e9b5447-e06c-4ee1-d6cb-76e764207bcb"
      },
      "execution_count": null,
      "outputs": [
        {
          "output_type": "stream",
          "name": "stdout",
          "text": [
            "[1, 13, 52, 55]\n",
            "55\n",
            "55\n"
          ]
        }
      ]
    },
    {
      "cell_type": "code",
      "source": [
        "# upto certain k length\n",
        "nums=[6,7,8,9,-4,-3,0]\n",
        "k=4\n",
        "cur_sum=0\n",
        "max_sum=0\n",
        "n=[]\n",
        "for i in range(k):\n",
        "  cur_sum+=nums[i]\n",
        "max_sum=cur_sum\n",
        "n.append(max_sum)\n",
        "for i in range(k,len(nums)):\n",
        "  cur_sum+=nums[i]-nums[i-k]\n",
        "  if cur_sum>max_sum:\n",
        "    max_sum=cur_sum\n",
        "    n.append(max_sum)\n",
        "print(n)\n",
        "\n"
      ],
      "metadata": {
        "colab": {
          "base_uri": "https://localhost:8080/"
        },
        "id": "E816uyazvuuB",
        "outputId": "d371c837-928f-4824-ce3e-ef9bb72bbc88"
      },
      "execution_count": null,
      "outputs": [
        {
          "output_type": "stream",
          "name": "stdout",
          "text": [
            "[30]\n"
          ]
        }
      ]
    },
    {
      "cell_type": "code",
      "source": [
        "nums1 = [2,3,0,9]\n",
        "nums2 = [1]\n",
        "nums1+=nums2\n",
        "\n",
        "non_zero_index = 0\n",
        "for i in range(len(nums1)):\n",
        "    if nums1[i] != 0:\n",
        "        nums1[non_zero_index] = nums1[i]\n",
        "        non_zero_index += 1\n",
        "\n",
        "\n",
        "\n",
        "print(sorted(nums1[:non_zero_index]))\n"
      ],
      "metadata": {
        "colab": {
          "base_uri": "https://localhost:8080/"
        },
        "id": "BaBhvoDV0eTL",
        "outputId": "ff351cb9-3502-4b6a-d152-1547b68597d6"
      },
      "execution_count": null,
      "outputs": [
        {
          "output_type": "stream",
          "name": "stdout",
          "text": [
            "[1, 2, 3, 9]\n"
          ]
        }
      ]
    },
    {
      "cell_type": "code",
      "source": [
        "# array is good\n",
        "nums = [3, 4, 4, 1, 2]\n",
        "n=4\n",
        "# [1,2,3,4,4]\n",
        "k=[]\n",
        "for i in range(1,n+1):\n",
        "  k.append(i)\n",
        "k.append(n)\n",
        "print(k)\n",
        "if len(nums)!=len(k):\n",
        "  print(\"false\")\n",
        "if sorted(k)==sorted(nums):\n",
        "  print(\"true\")\n",
        "\n",
        "\n"
      ],
      "metadata": {
        "colab": {
          "base_uri": "https://localhost:8080/"
        },
        "id": "5W9i8NYnp6FY",
        "outputId": "c90f24ea-ecf1-439d-c676-e46654d83d41"
      },
      "execution_count": null,
      "outputs": [
        {
          "output_type": "stream",
          "name": "stdout",
          "text": [
            "[1, 2, 3, 4, 4]\n",
            "true\n"
          ]
        }
      ]
    },
    {
      "cell_type": "code",
      "source": [
        "# third maximum largest number\n",
        "nums= [2,2,3]\n",
        "k=sorted(set(nums))\n",
        "n=len(k)\n",
        "print(k)\n",
        "for i in range(n):\n",
        "  if len(k)>3:\n",
        "    print(k[n-3])\n",
        "    break\n",
        "else:\n",
        "  print(k[-1])\n",
        "\n",
        "\n",
        "\n"
      ],
      "metadata": {
        "colab": {
          "base_uri": "https://localhost:8080/"
        },
        "id": "Jf2_ck4Nv2Hs",
        "outputId": "5b8d2ce6-fd8e-43ec-a5b4-39702a4f8bd8"
      },
      "execution_count": null,
      "outputs": [
        {
          "output_type": "stream",
          "name": "stdout",
          "text": [
            "[2, 3]\n",
            "3\n"
          ]
        }
      ]
    },
    {
      "cell_type": "code",
      "source": [
        "nums =[1,2,3,4]\n",
        "mx=-100\n",
        "for i in range(len(nums)):\n",
        "  if nums[i]>mx:\n",
        "    mx=nums[i]\n",
        "print(mx)\n",
        "n=2*(len(nums)-1)\n",
        "for i in range(len(nums)):\n",
        "  if mx>=n:\n",
        "    if mx==nums[i]:\n",
        "      print(i)\n",
        "  else:\n",
        "    print(-1)\n",
        "    break\n",
        "\n",
        "\n",
        "\n"
      ],
      "metadata": {
        "colab": {
          "base_uri": "https://localhost:8080/"
        },
        "id": "zBD_joeVCwfo",
        "outputId": "02140182-09dc-4527-fbd9-7879b46b589e"
      },
      "execution_count": null,
      "outputs": [
        {
          "output_type": "stream",
          "name": "stdout",
          "text": [
            "4\n",
            "-1\n"
          ]
        }
      ]
    },
    {
      "cell_type": "code",
      "source": [
        "# maximum divisibility store\n",
        "nums = [4,7,9,3,9]\n",
        "divisors = [5,2,3]\n",
        "mx=-1000\n",
        "for i in range(len(nums)):\n",
        "  if nums[i]>mx:\n",
        "    mx=nums[i]\n",
        "print(mx)\n",
        "for i in range(len(nums)):\n",
        "  if mx==nums[i]:\n",
        "    print(divisors[i])\n",
        "    break\n"
      ],
      "metadata": {
        "colab": {
          "base_uri": "https://localhost:8080/"
        },
        "id": "ETMF5iajNJxh",
        "outputId": "5bd77fca-e7c3-463a-9a62-b812d4ecb4a3"
      },
      "execution_count": null,
      "outputs": [
        {
          "output_type": "stream",
          "name": "stdout",
          "text": [
            "9\n",
            "3\n"
          ]
        }
      ]
    }
  ],
  "metadata": {
    "colab": {
      "provenance": [],
      "authorship_tag": "ABX9TyNp60WbvDc5o8eIWUs6neiy",
      "include_colab_link": true
    },
    "kernelspec": {
      "display_name": "Python 3",
      "name": "python3"
    },
    "language_info": {
      "name": "python"
    }
  },
  "nbformat": 4,
  "nbformat_minor": 0
}